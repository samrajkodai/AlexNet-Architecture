{
  "nbformat": 4,
  "nbformat_minor": 0,
  "metadata": {
    "colab": {
      "name": "AlexNet Architecture.ipynb",
      "provenance": []
    },
    "kernelspec": {
      "name": "python3",
      "display_name": "Python 3"
    },
    "language_info": {
      "name": "python"
    }
  },
  "cells": [
    {
      "cell_type": "code",
      "metadata": {
        "id": "p7zUY-Z1lKoD"
      },
      "source": [
        "import tensorflow as tf\n",
        "from tensorflow.keras.layers import Conv2D,MaxPooling2D,Dense,Activation,Dropout,Flatten"
      ],
      "execution_count": 9,
      "outputs": []
    },
    {
      "cell_type": "code",
      "metadata": {
        "id": "1sxMw9IAlM_n"
      },
      "source": [
        "model=tf.keras.models.Sequential()"
      ],
      "execution_count": 10,
      "outputs": []
    },
    {
      "cell_type": "code",
      "metadata": {
        "id": "TYma-MLqnDMl"
      },
      "source": [
        "model.add(Conv2D(filters=96,input_shape=(227,227,3),kernel_size=(11,11),padding='same',strides=(1,1),activation='relu'))"
      ],
      "execution_count": 13,
      "outputs": []
    },
    {
      "cell_type": "code",
      "metadata": {
        "id": "kqu-MHILoCm9"
      },
      "source": [
        "model.add(MaxPooling2D(strides=(3,3),padding='same',pool_size=(2,2)))"
      ],
      "execution_count": 14,
      "outputs": []
    },
    {
      "cell_type": "code",
      "metadata": {
        "id": "dIPQlvjCowes"
      },
      "source": [
        "model.add(Conv2D(filters=256,kernel_size=(5,5),padding='valid',strides=(1,1),activation='relu'))"
      ],
      "execution_count": 21,
      "outputs": []
    },
    {
      "cell_type": "code",
      "metadata": {
        "id": "9qPj039tpLQN"
      },
      "source": [
        "model.add(MaxPooling2D(strides=(2,2),pool_size=(3,3),padding='valid'))"
      ],
      "execution_count": 24,
      "outputs": []
    },
    {
      "cell_type": "code",
      "metadata": {
        "id": "rawtjwwoqUX9"
      },
      "source": [
        "model.add(Conv2D(filters=226,kernel_size=(3,3),padding='valid',strides=(1,1)))"
      ],
      "execution_count": 26,
      "outputs": []
    },
    {
      "cell_type": "code",
      "metadata": {
        "id": "InGRaC3rqrLm"
      },
      "source": [
        "model.add(Conv2D(filters=384,kernel_size=(3,3),padding='same',strides=(1,1)))"
      ],
      "execution_count": 27,
      "outputs": []
    },
    {
      "cell_type": "code",
      "metadata": {
        "id": "xpjJScXfq7wM"
      },
      "source": [
        "model.add(Conv2D(filters=384,kernel_size=(3,3),padding='same',strides=(1,1)))"
      ],
      "execution_count": 28,
      "outputs": []
    },
    {
      "cell_type": "code",
      "metadata": {
        "id": "SYi6y4jjrStB"
      },
      "source": [
        "model.add(MaxPooling2D(pool_size=(3,3),padding='valid',strides=(1,1)))"
      ],
      "execution_count": 29,
      "outputs": []
    },
    {
      "cell_type": "code",
      "metadata": {
        "colab": {
          "base_uri": "https://localhost:8080/"
        },
        "id": "QXCGB8tDrhbH",
        "outputId": "c0d1adb6-bdc6-4609-f175-76dbce6b64f6"
      },
      "source": [
        "model.summary()"
      ],
      "execution_count": 31,
      "outputs": [
        {
          "output_type": "stream",
          "text": [
            "Model: \"sequential_1\"\n",
            "_________________________________________________________________\n",
            "Layer (type)                 Output Shape              Param #   \n",
            "=================================================================\n",
            "conv2d_1 (Conv2D)            (None, 227, 227, 96)      34944     \n",
            "_________________________________________________________________\n",
            "conv2d_2 (Conv2D)            (None, 227, 227, 96)      1115232   \n",
            "_________________________________________________________________\n",
            "max_pooling2d (MaxPooling2D) (None, 76, 76, 96)        0         \n",
            "_________________________________________________________________\n",
            "conv2d_4 (Conv2D)            (None, 72, 72, 256)       614656    \n",
            "_________________________________________________________________\n",
            "conv2d_5 (Conv2D)            (None, 68, 68, 256)       1638656   \n",
            "_________________________________________________________________\n",
            "max_pooling2d_1 (MaxPooling2 (None, 33, 33, 256)       0         \n",
            "_________________________________________________________________\n",
            "conv2d_6 (Conv2D)            (None, 31, 31, 226)       520930    \n",
            "_________________________________________________________________\n",
            "conv2d_7 (Conv2D)            (None, 31, 31, 384)       781440    \n",
            "_________________________________________________________________\n",
            "conv2d_8 (Conv2D)            (None, 31, 31, 384)       1327488   \n",
            "_________________________________________________________________\n",
            "max_pooling2d_2 (MaxPooling2 (None, 29, 29, 384)       0         \n",
            "=================================================================\n",
            "Total params: 6,033,346\n",
            "Trainable params: 6,033,346\n",
            "Non-trainable params: 0\n",
            "_________________________________________________________________\n"
          ],
          "name": "stdout"
        }
      ]
    },
    {
      "cell_type": "code",
      "metadata": {
        "id": "PRAisogXrih2"
      },
      "source": [
        ""
      ],
      "execution_count": null,
      "outputs": []
    }
  ]
}